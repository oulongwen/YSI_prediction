{
 "cells": [
  {
   "cell_type": "code",
   "execution_count": 1,
   "metadata": {
    "collapsed": true
   },
   "outputs": [],
   "source": [
    "import pandas as pd\n",
    "import numpy as np\n",
    "import matplotlib.pyplot as plt\n",
    "import seaborn as sns\n",
    "from scipy.stats import boxcox, skew\n",
    "from scipy.special import inv_boxcox\n",
    "from sklearn.preprocessing import Imputer, StandardScaler, RobustScaler, MaxAbsScaler, MinMaxScaler\n",
    "from sklearn.feature_selection import VarianceThreshold\n",
    "from sklearn.model_selection import train_test_split, KFold, cross_val_score\n",
    "from sklearn.pipeline import Pipeline\n",
    "from sklearn.base import BaseEstimator, TransformerMixin, clone, RegressorMixin\n",
    "from sklearn.linear_model import LassoCV, ElasticNetCV, HuberRegressor, Ridge, ElasticNet, Lasso\n",
    "from sklearn.metrics import mean_squared_error, median_absolute_error\n",
    "from hyperopt import tpe, fmin, Trials, hp, space_eval\n",
    "import warnings\n",
    "\n",
    "\n",
    "%matplotlib inline\n",
    "sns.set_style('ticks')\n",
    "sns.set_palette('muted')\n",
    "warnings.filterwarnings('ignore')"
   ]
  },
  {
   "cell_type": "markdown",
   "metadata": {},
   "source": [
    "## Load data"
   ]
  },
  {
   "cell_type": "code",
   "execution_count": 2,
   "metadata": {},
   "outputs": [
    {
     "name": "stdout",
     "output_type": "stream",
     "text": [
      "shape of features:  (297, 5270)\n",
      "shape of target:  (297, 1)\n"
     ]
    }
   ],
   "source": [
    "X = pd.read_pickle('dragon.p')\n",
    "y = pd.read_pickle('low.p')\n",
    "y = y.set_index('SMILES')\n",
    "y = y[['YSI']]\n",
    "X = X.reindex(y.index)\n",
    "print('shape of features: ', X.shape)\n",
    "print('shape of target: ', y.shape)"
   ]
  },
  {
   "cell_type": "code",
   "execution_count": 3,
   "metadata": {},
   "outputs": [
    {
     "data": {
      "text/html": [
       "<div>\n",
       "<style>\n",
       "    .dataframe thead tr:only-child th {\n",
       "        text-align: right;\n",
       "    }\n",
       "\n",
       "    .dataframe thead th {\n",
       "        text-align: left;\n",
       "    }\n",
       "\n",
       "    .dataframe tbody tr th {\n",
       "        vertical-align: top;\n",
       "    }\n",
       "</style>\n",
       "<table border=\"1\" class=\"dataframe\">\n",
       "  <thead>\n",
       "    <tr style=\"text-align: right;\">\n",
       "      <th></th>\n",
       "      <th>MW</th>\n",
       "      <th>AMW</th>\n",
       "      <th>Sv</th>\n",
       "      <th>Se</th>\n",
       "      <th>Sp</th>\n",
       "      <th>Si</th>\n",
       "      <th>Mv</th>\n",
       "      <th>Me</th>\n",
       "      <th>Mp</th>\n",
       "      <th>Mi</th>\n",
       "      <th>...</th>\n",
       "      <th>CATS3D_10_LL</th>\n",
       "      <th>CATS3D_11_LL</th>\n",
       "      <th>CATS3D_12_LL</th>\n",
       "      <th>CATS3D_13_LL</th>\n",
       "      <th>CATS3D_14_LL</th>\n",
       "      <th>CATS3D_15_LL</th>\n",
       "      <th>CATS3D_16_LL</th>\n",
       "      <th>CATS3D_17_LL</th>\n",
       "      <th>CATS3D_18_LL</th>\n",
       "      <th>CATS3D_19_LL</th>\n",
       "    </tr>\n",
       "    <tr>\n",
       "      <th>SMILES</th>\n",
       "      <th></th>\n",
       "      <th></th>\n",
       "      <th></th>\n",
       "      <th></th>\n",
       "      <th></th>\n",
       "      <th></th>\n",
       "      <th></th>\n",
       "      <th></th>\n",
       "      <th></th>\n",
       "      <th></th>\n",
       "      <th></th>\n",
       "      <th></th>\n",
       "      <th></th>\n",
       "      <th></th>\n",
       "      <th></th>\n",
       "      <th></th>\n",
       "      <th></th>\n",
       "      <th></th>\n",
       "      <th></th>\n",
       "      <th></th>\n",
       "      <th></th>\n",
       "    </tr>\n",
       "  </thead>\n",
       "  <tbody>\n",
       "    <tr>\n",
       "      <th>CCCCC</th>\n",
       "      <td>72.17</td>\n",
       "      <td>4.245</td>\n",
       "      <td>8.161</td>\n",
       "      <td>16.302</td>\n",
       "      <td>9.568</td>\n",
       "      <td>19.491</td>\n",
       "      <td>0.480</td>\n",
       "      <td>0.959</td>\n",
       "      <td>0.563</td>\n",
       "      <td>1.147</td>\n",
       "      <td>...</td>\n",
       "      <td>0</td>\n",
       "      <td>0</td>\n",
       "      <td>0</td>\n",
       "      <td>0</td>\n",
       "      <td>0</td>\n",
       "      <td>0</td>\n",
       "      <td>0</td>\n",
       "      <td>0</td>\n",
       "      <td>0</td>\n",
       "      <td>0</td>\n",
       "    </tr>\n",
       "    <tr>\n",
       "      <th>CCCCCC</th>\n",
       "      <td>86.20</td>\n",
       "      <td>4.310</td>\n",
       "      <td>9.688</td>\n",
       "      <td>19.185</td>\n",
       "      <td>11.330</td>\n",
       "      <td>22.906</td>\n",
       "      <td>0.484</td>\n",
       "      <td>0.959</td>\n",
       "      <td>0.566</td>\n",
       "      <td>1.145</td>\n",
       "      <td>...</td>\n",
       "      <td>0</td>\n",
       "      <td>0</td>\n",
       "      <td>0</td>\n",
       "      <td>0</td>\n",
       "      <td>0</td>\n",
       "      <td>0</td>\n",
       "      <td>0</td>\n",
       "      <td>0</td>\n",
       "      <td>0</td>\n",
       "      <td>0</td>\n",
       "    </tr>\n",
       "    <tr>\n",
       "      <th>CCCC(C)C</th>\n",
       "      <td>86.20</td>\n",
       "      <td>4.310</td>\n",
       "      <td>9.688</td>\n",
       "      <td>19.185</td>\n",
       "      <td>11.330</td>\n",
       "      <td>22.906</td>\n",
       "      <td>0.484</td>\n",
       "      <td>0.959</td>\n",
       "      <td>0.566</td>\n",
       "      <td>1.145</td>\n",
       "      <td>...</td>\n",
       "      <td>0</td>\n",
       "      <td>0</td>\n",
       "      <td>0</td>\n",
       "      <td>0</td>\n",
       "      <td>0</td>\n",
       "      <td>0</td>\n",
       "      <td>0</td>\n",
       "      <td>0</td>\n",
       "      <td>0</td>\n",
       "      <td>0</td>\n",
       "    </tr>\n",
       "    <tr>\n",
       "      <th>CCC(C)CC</th>\n",
       "      <td>86.20</td>\n",
       "      <td>4.310</td>\n",
       "      <td>9.688</td>\n",
       "      <td>19.185</td>\n",
       "      <td>11.330</td>\n",
       "      <td>22.906</td>\n",
       "      <td>0.484</td>\n",
       "      <td>0.959</td>\n",
       "      <td>0.566</td>\n",
       "      <td>1.145</td>\n",
       "      <td>...</td>\n",
       "      <td>0</td>\n",
       "      <td>0</td>\n",
       "      <td>0</td>\n",
       "      <td>0</td>\n",
       "      <td>0</td>\n",
       "      <td>0</td>\n",
       "      <td>0</td>\n",
       "      <td>0</td>\n",
       "      <td>0</td>\n",
       "      <td>0</td>\n",
       "    </tr>\n",
       "    <tr>\n",
       "      <th>CCC(C)(C)C</th>\n",
       "      <td>86.20</td>\n",
       "      <td>4.310</td>\n",
       "      <td>9.688</td>\n",
       "      <td>19.185</td>\n",
       "      <td>11.330</td>\n",
       "      <td>22.906</td>\n",
       "      <td>0.484</td>\n",
       "      <td>0.959</td>\n",
       "      <td>0.566</td>\n",
       "      <td>1.145</td>\n",
       "      <td>...</td>\n",
       "      <td>0</td>\n",
       "      <td>0</td>\n",
       "      <td>0</td>\n",
       "      <td>0</td>\n",
       "      <td>0</td>\n",
       "      <td>0</td>\n",
       "      <td>0</td>\n",
       "      <td>0</td>\n",
       "      <td>0</td>\n",
       "      <td>0</td>\n",
       "    </tr>\n",
       "  </tbody>\n",
       "</table>\n",
       "<p>5 rows × 5270 columns</p>\n",
       "</div>"
      ],
      "text/plain": [
       "               MW    AMW     Sv      Se      Sp      Si     Mv     Me     Mp  \\\n",
       "SMILES                                                                         \n",
       "CCCCC       72.17  4.245  8.161  16.302   9.568  19.491  0.480  0.959  0.563   \n",
       "CCCCCC      86.20  4.310  9.688  19.185  11.330  22.906  0.484  0.959  0.566   \n",
       "CCCC(C)C    86.20  4.310  9.688  19.185  11.330  22.906  0.484  0.959  0.566   \n",
       "CCC(C)CC    86.20  4.310  9.688  19.185  11.330  22.906  0.484  0.959  0.566   \n",
       "CCC(C)(C)C  86.20  4.310  9.688  19.185  11.330  22.906  0.484  0.959  0.566   \n",
       "\n",
       "               Mi      ...       CATS3D_10_LL  CATS3D_11_LL  CATS3D_12_LL  \\\n",
       "SMILES                 ...                                                  \n",
       "CCCCC       1.147      ...                  0             0             0   \n",
       "CCCCCC      1.145      ...                  0             0             0   \n",
       "CCCC(C)C    1.145      ...                  0             0             0   \n",
       "CCC(C)CC    1.145      ...                  0             0             0   \n",
       "CCC(C)(C)C  1.145      ...                  0             0             0   \n",
       "\n",
       "            CATS3D_13_LL  CATS3D_14_LL  CATS3D_15_LL  CATS3D_16_LL  \\\n",
       "SMILES                                                               \n",
       "CCCCC                  0             0             0             0   \n",
       "CCCCCC                 0             0             0             0   \n",
       "CCCC(C)C               0             0             0             0   \n",
       "CCC(C)CC               0             0             0             0   \n",
       "CCC(C)(C)C             0             0             0             0   \n",
       "\n",
       "            CATS3D_17_LL  CATS3D_18_LL  CATS3D_19_LL  \n",
       "SMILES                                                \n",
       "CCCCC                  0             0             0  \n",
       "CCCCCC                 0             0             0  \n",
       "CCCC(C)C               0             0             0  \n",
       "CCC(C)CC               0             0             0  \n",
       "CCC(C)(C)C             0             0             0  \n",
       "\n",
       "[5 rows x 5270 columns]"
      ]
     },
     "execution_count": 3,
     "metadata": {},
     "output_type": "execute_result"
    }
   ],
   "source": [
    "X.head()"
   ]
  },
  {
   "cell_type": "markdown",
   "metadata": {},
   "source": [
    "## Exploratory data analysis"
   ]
  },
  {
   "cell_type": "markdown",
   "metadata": {},
   "source": [
    "This dataset contains only 297 samples, yet more than 5000 features. All the features are calculated by the [Dragon Molecular Descriptors Calculator](http://www.talete.mi.it/products/dragon_description.htm). Molecular descriptors in [Quantitative Structure–Activity Relationship (QSAR)](https://en.wikipedia.org/wiki/Quantitative_structure%E2%80%93activity_relationship) are synonyms of features in machine learning. Some features contains no useful information (all samples take the sasme value). These features should be removed, of course. Other features contains little information. For example, look at the *CATS3D_10_LL* column. This feature only takes two values: 0 and 2. Moreover, only one sample takes the value of 2 while all other samples take the value of 0. This kind of features contains little information and should thus be removed."
   ]
  },
  {
   "cell_type": "code",
   "execution_count": 4,
   "metadata": {},
   "outputs": [
    {
     "data": {
      "text/plain": [
       "0    296\n",
       "2      1\n",
       "Name: CATS3D_11_LL, dtype: int64"
      ]
     },
     "execution_count": 4,
     "metadata": {},
     "output_type": "execute_result"
    }
   ],
   "source": [
    "X['CATS3D_11_LL'].value_counts()"
   ]
  },
  {
   "cell_type": "code",
   "execution_count": 5,
   "metadata": {},
   "outputs": [
    {
     "data": {
      "text/plain": [
       "<matplotlib.axes._subplots.AxesSubplot at 0x7fdbc4fe7470>"
      ]
     },
     "execution_count": 5,
     "metadata": {},
     "output_type": "execute_result"
    },
    {
     "data": {
      "image/png": "[encoded data removed]",
      "text/plain": [
       "<matplotlib.figure.Figure at 0x7fdbc4fe77b8>"
      ]
     },
     "metadata": {},
     "output_type": "display_data"
    }
   ],
   "source": [
    "sns.countplot(x='CATS3D_11_LL', data=X)"
   ]
  },
  {
   "cell_type": "markdown",
   "metadata": {},
   "source": [
    "These features containing little information usually are highly skewed because nearly all samples taken one value with a small number of exceptions. Therefore these featuers can be removed if their skewness exceeds some threshold."
   ]
  },
  {
   "cell_type": "code",
   "execution_count": 6,
   "metadata": {},
   "outputs": [
    {
     "data": {
      "text/plain": [
       "17.233687939614089"
      ]
     },
     "execution_count": 6,
     "metadata": {},
     "output_type": "execute_result"
    }
   ],
   "source": [
    "X['CATS3D_11_LL'].skew()"
   ]
  },
  {
   "cell_type": "markdown",
   "metadata": {},
   "source": [
    "The target value (YSI) is also a little skewed. It is usually desired to remove the skewness of the target. Box cox transformation is used here for this purpose."
   ]
  },
  {
   "cell_type": "code",
   "execution_count": 7,
   "metadata": {},
   "outputs": [
    {
     "data": {
      "text/plain": [
       "YSI    0.719815\n",
       "dtype: float64"
      ]
     },
     "execution_count": 7,
     "metadata": {},
     "output_type": "execute_result"
    }
   ],
   "source": [
    "y.skew()"
   ]
  },
  {
   "cell_type": "markdown",
   "metadata": {},
   "source": [
    "## Splitting data into train and test set"
   ]
  },
  {
   "cell_type": "code",
   "execution_count": 8,
   "metadata": {
    "collapsed": true
   },
   "outputs": [],
   "source": [
    "X_train, X_test, y_train, y_test = train_test_split(X, y, test_size=.3, random_state=19)"
   ]
  },
  {
   "cell_type": "markdown",
   "metadata": {},
   "source": [
    "## Building the regression pipeline\n",
    "\n",
    "Some of the steps in the machine learning pipeline (removing highly skewed features) are not avaialble is scikit-learn. Therefore I conctructed corresponding classes following scikit-learn APIs."
   ]
  },
  {
   "cell_type": "code",
   "execution_count": 9,
   "metadata": {
    "collapsed": true
   },
   "outputs": [],
   "source": [
    "class removeSkew(BaseEstimator, TransformerMixin):\n",
    "    '''Remove highly skewed features'''\n",
    "    \n",
    "    def __init__(self, skew_thres=10, unique_thres=3):\n",
    "        self.skew_thres = skew_thres\n",
    "        self.unique_thres = unique_thres\n",
    "        \n",
    "    def fit(self, X):\n",
    "        df = pd.DataFrame(X)\n",
    "        self.toDrop_ = []\n",
    "        for col in df.columns:\n",
    "            if abs(df[col].skew()) > 10 and len(df[col].unique())<3:\n",
    "                self.toDrop_.append(col)\n",
    "        return self\n",
    "        \n",
    "    def transform(self, X):\n",
    "        df = pd.DataFrame(X)\n",
    "        df = df.drop(self.toDrop_, axis=1)\n",
    "        return df.values\n",
    "    \n",
    "    def fit_transform(self, X, y):\n",
    "        self.fit(X)\n",
    "        return self.transform(X)"
   ]
  },
  {
   "cell_type": "markdown",
   "metadata": {},
   "source": [
    "Linear models are tried in favor of their simplicity. Since the dataset contains many more features than samples, regularization must be used. Two strategies of regularization are used here: [**Lasso**](https://en.wikipedia.org/wiki/Lasso_(statistics) (L1 regularization) and [**Elastic net regularization**](https://en.wikipedia.org/wiki/Elastic_net_regularization) (a combination of L1 and L2 regularizations). Note that the features should be standardized before fed to the model to avoid the situation where features of large scales dominate the model. Cross validation is used for hyperparameter tuning."
   ]
  },
  {
   "cell_type": "code",
   "execution_count": 10,
   "metadata": {
    "collapsed": true
   },
   "outputs": [],
   "source": [
    "imputer = Imputer(strategy='mean', axis=0) # imputer automatically removes features with all missing values\n",
    "sel = VarianceThreshold()                  # Remove features with the same values\n",
    "deskew = removeSkew()                      # Remove highly skewed features\n",
    "lasso = LassoCV(n_jobs=-1)\n",
    "en = ElasticNetCV(max_iter=5000, l1_ratio=[.1, .5, .7, .9, .95, .99, 1], n_jobs=-1)\n",
    "scaler = StandardScaler()"
   ]
  },
  {
   "cell_type": "code",
   "execution_count": 11,
   "metadata": {
    "collapsed": true
   },
   "outputs": [],
   "source": [
    "lasso_pipe = Pipeline([('imputer', imputer), ('selection', sel), ('deskew', deskew), \\\n",
    "                 ('scaler', scaler), ('pred', lasso)])\n",
    "en_pipe = Pipeline([('imputer', imputer), ('selection', sel), ('deskew', deskew), \\\n",
    "                 ('scaler', scaler), ('pred', en)])"
   ]
  },
  {
   "cell_type": "code",
   "execution_count": 12,
   "metadata": {
    "scrolled": true
   },
   "outputs": [
    {
     "data": {
      "text/plain": [
       "Pipeline(memory=None,\n",
       "     steps=[('imputer', Imputer(axis=0, copy=True, missing_values='NaN', strategy='mean', verbose=0)), ('selection', VarianceThreshold(threshold=0.0)), ('deskew', removeSkew(skew_thres=10, unique_thres=3)), ('scaler', StandardScaler(copy=True, with_mean=True, with_std=True)), ('pred', ElasticNetCV(alphas...se,\n",
       "       precompute='auto', random_state=None, selection='cyclic',\n",
       "       tol=0.0001, verbose=0))])"
      ]
     },
     "execution_count": 12,
     "metadata": {},
     "output_type": "execute_result"
    }
   ],
   "source": [
    "lasso_pipe.fit(X_train, y_train.values.ravel())\n",
    "en_pipe.fit(X_train, y_train.values.ravel())"
   ]
  },
  {
   "cell_type": "code",
   "execution_count": 13,
   "metadata": {
    "collapsed": true
   },
   "outputs": [],
   "source": [
    "lasso_train = lasso_pipe.predict(X_train)\n",
    "lasso_test = lasso_pipe.predict(X_test)\n",
    "\n",
    "en_train = en_pipe.predict(X_train)\n",
    "en_test = en_pipe.predict(X_test)"
   ]
  },
  {
   "cell_type": "code",
   "execution_count": 14,
   "metadata": {},
   "outputs": [
    {
     "name": "stdout",
     "output_type": "stream",
     "text": [
      "Lasso scores:\n",
      "Training R2, RMSE and MAE:     0.9541  6.1047  3.4093  \n",
      "Test R2, RMSE and MAE:         0.9074  7.1773  3.4461  \n",
      "Elastic net scores:\n",
      "Training R2, RMSE and MAE:     0.9763  4.3809  2.1476  \n",
      "Test R2, RMSE and MAE:         0.9141  6.9094  3.2617  \n"
     ]
    },
    {
     "data": {
      "image/png": "[encoded data removed]",
      "text/plain": [
       "<matplotlib.figure.Figure at 0x7fdbbdac4ac8>"
      ]
     },
     "metadata": {},
     "output_type": "display_data"
    }
   ],
   "source": [
    "print('Lasso scores:')\n",
    "print('Training R2, RMSE and MAE: '.ljust(30),\n",
    "      '{:<8.4f}{:<8.4f}{:<8.4f}'.format(lasso_pipe.score(X_train, y_train.values.ravel()),\n",
    "      np.sqrt(mean_squared_error(y_train, lasso_train)),\n",
    "      median_absolute_error(y_train, lasso_train)))\n",
    "print('Test R2, RMSE and MAE: '.ljust(30),\n",
    "      '{:<8.4f}{:<8.4f}{:<8.4f}'.format(lasso_pipe.score(X_test, y_test.values.ravel()),\n",
    "      np.sqrt(mean_squared_error(y_test, lasso_test)),\n",
    "      median_absolute_error(y_test, lasso_test)))\n",
    "\n",
    "print('Elastic net scores:')\n",
    "print('Training R2, RMSE and MAE: '.ljust(30),\n",
    "      '{:<8.4f}{:<8.4f}{:<8.4f}'.format(en_pipe.score(X_train, y_train.values.ravel()),\n",
    "      np.sqrt(mean_squared_error(y_train, en_train)),\n",
    "      median_absolute_error(y_train, en_train)))\n",
    "print('Test R2, RMSE and MAE: '.ljust(30),\n",
    "      '{:<8.4f}{:<8.4f}{:<8.4f}'.format(en_pipe.score(X_test, y_test.values.ravel()),\n",
    "      np.sqrt(mean_squared_error(y_test, en_test)),\n",
    "      median_absolute_error(y_test, en_test)))\n",
    "\n",
    "\n",
    "fig, ax = plt.subplots(1, 2, figsize=(10,4))\n",
    "sns.regplot(y_train.values, lasso_train, fit_reg=False, label='Train', scatter_kws={'alpha': 0.7}, ax=ax[0])\n",
    "sns.regplot(y_test.values, lasso_test, fit_reg=False, label='Test', marker='^', ax=ax[0])\n",
    "ax[0].axis([-50, 120, -50, 120])\n",
    "ax[0].plot(ax[0].get_xlim(), ax[0].get_xlim(), color='red', linestyle='--')\n",
    "ax[0].set_xlabel('Ture value')\n",
    "ax[0].set_ylabel('Predict value')\n",
    "ax[0].legend()\n",
    "ax[0].set_title('Lasso')\n",
    "\n",
    "ax[1].set_prop_cycle(None)\n",
    "sns.regplot(y_train.values, en_train, fit_reg=False, label='Train', scatter_kws={'alpha': 0.7}, ax=ax[1])\n",
    "sns.regplot(y_test.values, en_test, fit_reg=False, label='Test', marker='^', ax=ax[1])\n",
    "ax[1].axis([-50, 120, -50, 120])\n",
    "ax[1].plot(ax[1].get_xlim(), ax[1].get_xlim(), color='red', linestyle='--')\n",
    "ax[1].set_xlabel('Ture value')\n",
    "ax[1].set_ylabel('Predict value')\n",
    "ax[1].legend()\n",
    "ax[1].set_title('Elastic net')\n",
    "\n",
    "sns.despine()"
   ]
  },
  {
   "cell_type": "markdown",
   "metadata": {},
   "source": [
    "The scores indicate that elastic net is superior to Lasso in this case."
   ]
  },
  {
   "cell_type": "markdown",
   "metadata": {},
   "source": [
    "## Further improvement of model performance"
   ]
  },
  {
   "cell_type": "markdown",
   "metadata": {},
   "source": [
    "There are three potential ways for model improvement:\n",
    "* Use [Huber loss](https://en.wikipedia.org/wiki/Huber_loss) which is more robust to outliers\n",
    "* Further data processing\n",
    "* Hyperparameter tuning\n",
    "\n",
    "I tried both methods. However, using Huber loss tends to lead to overfitting and jeopardize model performance. Fortunately the second method does provide mild model improvement."
   ]
  },
  {
   "cell_type": "markdown",
   "metadata": {},
   "source": [
    "### Using Huber loss"
   ]
  },
  {
   "cell_type": "code",
   "execution_count": 15,
   "metadata": {},
   "outputs": [
    {
     "data": {
      "text/plain": [
       "0.99897652557841832"
      ]
     },
     "execution_count": 15,
     "metadata": {},
     "output_type": "execute_result"
    }
   ],
   "source": [
    "huber = HuberRegressor(epsilon=100, alpha=1)\n",
    "huber_pipe = Pipeline([('imputer', imputer), ('selection', sel), ('deskew', deskew), \\\n",
    "                 ('scaler', scaler), ('pred', huber)])\n",
    "huber_pipe.fit(X_train, y_train.values.ravel())\n",
    "huber_pipe.score(X_train, y_train.values.ravel())"
   ]
  },
  {
   "cell_type": "code",
   "execution_count": 16,
   "metadata": {},
   "outputs": [
    {
     "name": "stdout",
     "output_type": "stream",
     "text": [
      "Training error:  0.911112405498 0.569938811735\n",
      "Test error:  7.56172494303 4.47436947082\n"
     ]
    }
   ],
   "source": [
    "y4_train_pred = huber_pipe.predict(X_train)\n",
    "y4_test_pred = huber_pipe.predict(X_test)\n",
    "print('Training error: ', np.sqrt(mean_squared_error(y_train, y4_train_pred)),\\\n",
    "      median_absolute_error(y_train, y4_train_pred))\n",
    "print('Test error: ', np.sqrt(mean_squared_error(y_test, y4_test_pred)),\\\n",
    "      median_absolute_error(y_test, y4_test_pred))"
   ]
  },
  {
   "cell_type": "markdown",
   "metadata": {},
   "source": [
    "Using huber loss seems to lead to overfitting and jeopardize model performance."
   ]
  },
  {
   "cell_type": "markdown",
   "metadata": {},
   "source": [
    "### Further data processing\n",
    "The target values are a little skewed."
   ]
  },
  {
   "cell_type": "code",
   "execution_count": 17,
   "metadata": {},
   "outputs": [
    {
     "data": {
      "image/png": "[encoded data removed]",
      "text/plain": [
       "<matplotlib.figure.Figure at 0x7fdbbdb2a4a8>"
      ]
     },
     "metadata": {},
     "output_type": "display_data"
    }
   ],
   "source": [
    "sns.distplot(y)\n",
    "plt.gca().set_title('Skewness: {:.3f}'.format(y.skew()[0]), weight='bold')\n",
    "sns.despine()"
   ]
  },
  {
   "cell_type": "markdown",
   "metadata": {},
   "source": [
    "It is thus desirable to remove the skewness in the target. [**Box-Cox Transformation**]() is used for this purpose. Since Box-Cox transformation only works with positive values. The targets in the dataset should first be translated so that all the values become positive. Box-Cox transformation is then applied to the translated targets. I wrote another class to implement this functionality with scikit-learn APIs."
   ]
  },
  {
   "cell_type": "code",
   "execution_count": 18,
   "metadata": {
    "collapsed": true
   },
   "outputs": [],
   "source": [
    "# Box-Cox transformation of target\n",
    "class predictor(BaseEstimator, RegressorMixin, TransformerMixin):\n",
    "    \n",
    "    \n",
    "    def __init__(self, estimator):\n",
    "        self.estimator = estimator\n",
    "        \n",
    "    def fit(self, X, y):\n",
    "        '''Box-Cox transformation of target''' \n",
    "        try:\n",
    "            self.ymin_ = -80\n",
    "        except:\n",
    "            self.ymin_ = y.min()\n",
    "        self.ty_, self.lambda_ = boxcox(y - self.ymin_ + 1)\n",
    "        temp = inv_boxcox(self.ty_, self.lambda_) + self.ymin_ - 1 - y\n",
    "        self.estimator_ = clone(self.estimator)\n",
    "        self.estimator_.fit(X, self.ty_)\n",
    "        return self\n",
    "    \n",
    "    def predict(self, X):\n",
    "        self.yp = self.estimator_.predict(X)\n",
    "        y = inv_boxcox(self.yp, self.lambda_) + self.ymin_ - 1\n",
    "        return y"
   ]
  },
  {
   "cell_type": "code",
   "execution_count": 19,
   "metadata": {
    "collapsed": true
   },
   "outputs": [],
   "source": [
    "pred_lasso = predictor(lasso)\n",
    "pred_en = predictor(en)\n",
    "lasso_bc_pipe = Pipeline([('imputer', imputer), ('selection', sel), ('deskew', deskew), \\\n",
    "                 ('scaler', scaler), ('pred', pred_lasso)])\n",
    "en_bc_pipe = Pipeline([('imputer', imputer), ('selection', sel), ('deskew', deskew), \\\n",
    "                 ('scaler', scaler), ('pred', pred_en)])"
   ]
  },
  {
   "cell_type": "code",
   "execution_count": 20,
   "metadata": {
    "scrolled": true
   },
   "outputs": [
    {
     "data": {
      "text/plain": [
       "Pipeline(memory=None,\n",
       "     steps=[('imputer', Imputer(axis=0, copy=True, missing_values='NaN', strategy='mean', verbose=0)), ('selection', VarianceThreshold(threshold=0.0)), ('deskew', removeSkew(skew_thres=10, unique_thres=3)), ('scaler', StandardScaler(copy=True, with_mean=True, with_std=True)), ('pred', predictor(estimator...e,\n",
       "       precompute='auto', random_state=None, selection='cyclic',\n",
       "       tol=0.0001, verbose=0)))])"
      ]
     },
     "execution_count": 20,
     "metadata": {},
     "output_type": "execute_result"
    }
   ],
   "source": [
    "lasso_bc_pipe.fit(X_train, y_train.values.ravel())\n",
    "en_bc_pipe.fit(X_train, y_train.values.ravel())"
   ]
  },
  {
   "cell_type": "code",
   "execution_count": 21,
   "metadata": {
    "collapsed": true
   },
   "outputs": [],
   "source": [
    "lasso_bc_train = lasso_bc_pipe.predict(X_train)\n",
    "lasso_bc_test = lasso_bc_pipe.predict(X_test)\n",
    "\n",
    "en_bc_train = en_bc_pipe.predict(X_train)\n",
    "en_bc_test = en_bc_pipe.predict(X_test)"
   ]
  },
  {
   "cell_type": "code",
   "execution_count": 22,
   "metadata": {
    "scrolled": false
   },
   "outputs": [
    {
     "name": "stdout",
     "output_type": "stream",
     "text": [
      "Lasso scores:\n",
      "Training R2, RMSE and MAE:     0.9601  5.6891  2.9621  \n",
      "Test R2, RMSE and MAE:         0.9072  7.1824  2.9515  \n",
      "Elastic net scores:\n",
      "Training R2, RMSE and MAE:     0.9581  5.8331  3.0135  \n",
      "Test R2, RMSE and MAE:         0.9060  7.2288  3.0002  \n"
     ]
    },
    {
     "data": {
      "image/png": "[encoded data removed]",
      "text/plain": [
       "<matplotlib.figure.Figure at 0x7fdbbda672e8>"
      ]
     },
     "metadata": {},
     "output_type": "display_data"
    }
   ],
   "source": [
    "print('Lasso scores:')\n",
    "print('Training R2, RMSE and MAE: '.ljust(30),\n",
    "      '{:<8.4f}{:<8.4f}{:<8.4f}'.format(lasso_bc_pipe.score(X_train, y_train.values.ravel()),\n",
    "      np.sqrt(mean_squared_error(y_train, lasso_bc_train)),\n",
    "      median_absolute_error(y_train, lasso_bc_train)))\n",
    "print('Test R2, RMSE and MAE: '.ljust(30),\n",
    "      '{:<8.4f}{:<8.4f}{:<8.4f}'.format(lasso_bc_pipe.score(X_test, y_test.values.ravel()),\n",
    "      np.sqrt(mean_squared_error(y_test, lasso_bc_test)),\n",
    "      median_absolute_error(y_test, lasso_bc_test)))\n",
    "\n",
    "print('Elastic net scores:')\n",
    "print('Training R2, RMSE and MAE: '.ljust(30),\n",
    "      '{:<8.4f}{:<8.4f}{:<8.4f}'.format(en_bc_pipe.score(X_train, y_train.values.ravel()),\n",
    "      np.sqrt(mean_squared_error(y_train, en_bc_train)),\n",
    "      median_absolute_error(y_train, en_bc_train)))\n",
    "print('Test R2, RMSE and MAE: '.ljust(30),\n",
    "      '{:<8.4f}{:<8.4f}{:<8.4f}'.format(en_bc_pipe.score(X_test, y_test.values.ravel()),\n",
    "      np.sqrt(mean_squared_error(y_test, en_bc_test)),\n",
    "      median_absolute_error(y_test, en_bc_test)))\n",
    "\n",
    "\n",
    "fig, ax = plt.subplots(1, 2, figsize=(10,4))\n",
    "sns.regplot(y_train.values, lasso_bc_train, fit_reg=False, label='Train', scatter_kws={'alpha': 0.7}, ax=ax[0])\n",
    "sns.regplot(y_test.values, lasso_bc_test, fit_reg=False, label='Test', marker='^', ax=ax[0])\n",
    "ax[0].axis([-50, 120, -50, 120])\n",
    "ax[0].plot(ax[0].get_xlim(), ax[0].get_xlim(), color='red', linestyle='--')\n",
    "ax[0].set_xlabel('Ture value')\n",
    "ax[0].set_ylabel('Predict value')\n",
    "ax[0].legend()\n",
    "ax[0].set_title('Lasso')\n",
    "\n",
    "ax[1].set_prop_cycle(None)\n",
    "sns.regplot(y_train.values, en_bc_train, fit_reg=False, label='Train', scatter_kws={'alpha': 0.7}, ax=ax[1])\n",
    "sns.regplot(y_test.values, en_bc_test, fit_reg=False, label='Test', marker='^', ax=ax[1])\n",
    "ax[1].axis([-50, 120, -50, 120])\n",
    "ax[1].plot(ax[1].get_xlim(), ax[1].get_xlim(), color='red', linestyle='--')\n",
    "ax[1].set_xlabel('Ture value')\n",
    "ax[1].set_ylabel('Predict value')\n",
    "ax[1].legend()\n",
    "ax[1].set_title('Elastic net')\n",
    "\n",
    "sns.despine()"
   ]
  },
  {
   "cell_type": "markdown",
   "metadata": {},
   "source": [
    "### Hyperparameter tuning by Bayesian optimization\n",
    "Here I used [hyperopt](http://hyperopt.github.io/hyperopt/) for hyperparameter tuning. It requires a \"objective function\" to minimize. I used MAE as the metric for evaluating model performance because this is the metric utilized by the original paper.\n",
    "\n",
    "Three hyperparameters are considered:\n",
    "* Type of scaler\n",
    "* Type of regularization (L1, L2, or combination of L1 and L2 regularizations)\n",
    "* Strength of regularization"
   ]
  },
  {
   "cell_type": "markdown",
   "metadata": {},
   "source": [
    "**Without Box-Cox transformation of the target**"
   ]
  },
  {
   "cell_type": "code",
   "execution_count": 23,
   "metadata": {
    "collapsed": true
   },
   "outputs": [],
   "source": [
    "space = {}\n",
    "space['scaler'] = hp.choice('scaler', [StandardScaler(), RobustScaler(), MaxAbsScaler(), MinMaxScaler()])\n",
    "space['pred'] = hp.choice('pred', [\n",
    "            {\n",
    "                'type': 'lasso',\n",
    "                'pred__alpha': hp.loguniform('pred__alpha1', -3*np.log(10), 4*np.log(10))\n",
    "            },\n",
    "            {\n",
    "                'type': 'ridge',\n",
    "                'pred__alpha': hp.loguniform('pred__alpha2', -3*np.log(10), 4*np.log(10))\n",
    "            },\n",
    "            {\n",
    "                'type': 'elastic', \n",
    "                'pred__alpha': hp.loguniform('pred__alpha3', -3*np.log(10), 4*np.log(10)),\n",
    "                'pred__l1_ratio': hp.uniform('l1_ratio', 0,1)\n",
    "            }\n",
    "])"
   ]
  },
  {
   "cell_type": "code",
   "execution_count": 24,
   "metadata": {
    "collapsed": true
   },
   "outputs": [],
   "source": [
    "def objective(params):\n",
    "    en_bc_pipe.set_params(scaler=params['scaler'])\n",
    "    t = params['pred']['type']\n",
    "    del params['pred']['type']\n",
    "    if t=='lasso':\n",
    "        en_bc_pipe.set_params(pred=Lasso())\n",
    "    if t == 'ridge':\n",
    "        en_bc_pipe.set_params(pred=Ridge())\n",
    "    if t == 'elastic':\n",
    "        en_bc_pipe.set_params(pred=ElasticNet())\n",
    "    en_bc_pipe.set_params(**params['pred'])\n",
    "    shuffle = KFold(n_splits=5, shuffle=True)\n",
    "    score = cross_val_score(en_bc_pipe, X_train, y_train, cv=shuffle,\n",
    "                            scoring='neg_median_absolute_error', n_jobs=-1).mean()\n",
    "    return -score"
   ]
  },
  {
   "cell_type": "code",
   "execution_count": 25,
   "metadata": {
    "collapsed": true
   },
   "outputs": [],
   "source": [
    "r = np.random.RandomState(23)\n",
    "trials = Trials()\n",
    "best = fmin(objective, space, algo=tpe.suggest, max_evals=500, trials=trials, rstate=r)"
   ]
  },
  {
   "cell_type": "code",
   "execution_count": 26,
   "metadata": {},
   "outputs": [
    {
     "data": {
      "text/plain": [
       "{'pred': {'pred__alpha': 0.014357682419182689,\n",
       "  'pred__l1_ratio': 0.4487023312433226,\n",
       "  'type': 'elastic'},\n",
       " 'scaler': MaxAbsScaler(copy=True)}"
      ]
     },
     "execution_count": 26,
     "metadata": {},
     "output_type": "execute_result"
    }
   ],
   "source": [
    "opt = space_eval(space, best)\n",
    "opt"
   ]
  },
  {
   "cell_type": "code",
   "execution_count": 27,
   "metadata": {
    "collapsed": true
   },
   "outputs": [],
   "source": [
    "if opt['pred']['type'] == 'elastic':\n",
    "    opt_pipe = Pipeline([\n",
    "        ('imputer', imputer), ('selection', sel), ('deskew', deskew),\n",
    "        ('scaler', opt['scaler']), \n",
    "        ('pred', ElasticNet(alpha=opt['pred']['pred__alpha'], l1_ratio=opt['pred']['pred__l1_ratio']))\n",
    "    ])\n",
    "elif opt['pred']['type'] == 'ridge':\n",
    "    opt_pipe = Pipeline([\n",
    "        ('imputer', imputer), ('selection', sel), ('deskew', deskew),\n",
    "        ('scaler', opt['scaler']), \n",
    "        ('pred', Ridge(alpha=opt['pred']['pred__alpha']))\n",
    "    ])\n",
    "else:\n",
    "    opt_pipe = Pipeline([\n",
    "        ('imputer', imputer), ('selection', sel), ('deskew', deskew),\n",
    "        ('scaler', opt['scaler']), \n",
    "        ('pred', Lasso(alpha=opt['pred']['pred__alpha']))\n",
    "    ])"
   ]
  },
  {
   "cell_type": "code",
   "execution_count": 28,
   "metadata": {},
   "outputs": [
    {
     "data": {
      "text/plain": [
       "Pipeline(memory=None,\n",
       "     steps=[('imputer', Imputer(axis=0, copy=True, missing_values='NaN', strategy='mean', verbose=0)), ('selection', VarianceThreshold(threshold=0.0)), ('deskew', removeSkew(skew_thres=10, unique_thres=3)), ('scaler', MaxAbsScaler(copy=True)), ('pred', ElasticNet(alpha=0.014357682419182689, copy_X=True, ...alse, precompute=False, random_state=None,\n",
       "      selection='cyclic', tol=0.0001, warm_start=False))])"
      ]
     },
     "execution_count": 28,
     "metadata": {},
     "output_type": "execute_result"
    }
   ],
   "source": [
    "opt_pipe.fit(X_train, y_train.values.ravel())"
   ]
  },
  {
   "cell_type": "code",
   "execution_count": 29,
   "metadata": {
    "collapsed": true
   },
   "outputs": [],
   "source": [
    "opt_train = opt_pipe.predict(X_train)\n",
    "opt_test = opt_pipe.predict(X_test)"
   ]
  },
  {
   "cell_type": "code",
   "execution_count": 30,
   "metadata": {},
   "outputs": [
    {
     "name": "stdout",
     "output_type": "stream",
     "text": [
      "Lasso scores after hyperparameter tuning:\n",
      "Training R2, RMSE and MAE:     0.9890  2.9813  1.4842  \n",
      "Test R2, RMSE and MAE:         0.9119  7.0012  3.3685  \n"
     ]
    },
    {
     "data": {
      "image/png": "[encoded data removed]",
      "text/plain": [
       "<matplotlib.figure.Figure at 0x7fdbbd91c320>"
      ]
     },
     "metadata": {},
     "output_type": "display_data"
    }
   ],
   "source": [
    "print('Lasso scores after hyperparameter tuning:')\n",
    "print('Training R2, RMSE and MAE: '.ljust(30),\n",
    "      '{:<8.4f}{:<8.4f}{:<8.4f}'.format(opt_pipe.score(X_train, y_train.values.ravel()),\n",
    "      np.sqrt(mean_squared_error(y_train, opt_train)),\n",
    "      median_absolute_error(y_train, opt_train)))\n",
    "print('Test R2, RMSE and MAE: '.ljust(30),\n",
    "      '{:<8.4f}{:<8.4f}{:<8.4f}'.format(opt_pipe.score(X_test, y_test.values.ravel()),\n",
    "      np.sqrt(mean_squared_error(y_test, opt_test)),\n",
    "      median_absolute_error(y_test, opt_test)))\n",
    "\n",
    "\n",
    "fig, ax = plt.subplots()\n",
    "sns.regplot(y_train.values, opt_train, fit_reg=False, label='Train', scatter_kws={'alpha': 0.7}, ax=ax)\n",
    "sns.regplot(y_test.values, opt_test, fit_reg=False, label='Test', marker='^', ax=ax)\n",
    "ax.axis([-50, 120, -50, 120])\n",
    "ax.plot(ax.get_xlim(), ax.get_xlim(), color='red', linestyle='--')\n",
    "ax.set_xlabel('Ture value')\n",
    "ax.set_ylabel('Predict value')\n",
    "ax.legend()\n",
    "ax.set_title('Lasso')\n",
    "\n",
    "sns.despine()\n",
    "plt.show()"
   ]
  },
  {
   "cell_type": "markdown",
   "metadata": {},
   "source": [
    "**With Box-Cox transformation of the target**"
   ]
  },
  {
   "cell_type": "code",
   "execution_count": 31,
   "metadata": {
    "collapsed": true
   },
   "outputs": [],
   "source": [
    "space2 = {}\n",
    "space2['scaler'] = hp.choice('scaler', [StandardScaler(), RobustScaler(), MaxAbsScaler(), MinMaxScaler()])\n",
    "space2['pred'] = hp.choice('pred', [\n",
    "            {\n",
    "                'type': 'lasso',\n",
    "                'alpha': hp.loguniform('alpha1', -3*np.log(10), 4*np.log(10))\n",
    "            },\n",
    "            {\n",
    "                'type': 'ridge',\n",
    "                'alpha': hp.loguniform('alpha2', -3*np.log(10), 4*np.log(10))\n",
    "            },\n",
    "            {\n",
    "                'type': 'elastic', \n",
    "                'alpha': hp.loguniform('alpha3', -3*np.log(10), 4*np.log(10)),\n",
    "                'l1_ratio': hp.uniform('l1_ratio', 0,1)\n",
    "            }\n",
    "])"
   ]
  },
  {
   "cell_type": "code",
   "execution_count": 32,
   "metadata": {
    "collapsed": true
   },
   "outputs": [],
   "source": [
    "def objective2(params):\n",
    "    en_bc_pipe.set_params(scaler=params['scaler'])\n",
    "    t = params['pred']['type']\n",
    "    del params['pred']['type']\n",
    "    if t=='lasso':\n",
    "        en_bc_pipe.set_params(pred=predictor(Lasso(**params['pred'])))\n",
    "    if t == 'ridge':\n",
    "        en_bc_pipe.set_params(pred=predictor(Ridge(**params['pred'])))\n",
    "    if t == 'elastic':\n",
    "        en_bc_pipe.set_params(pred=predictor(ElasticNet(**params['pred'])))\n",
    "#     en_bc_pipe.set_params(**params['pred'])\n",
    "    shuffle = KFold(n_splits=5, shuffle=True)\n",
    "    score = cross_val_score(en_bc_pipe, X_train, y_train, cv=shuffle,\n",
    "                            scoring='neg_median_absolute_error', n_jobs=-1).mean()\n",
    "    return -score"
   ]
  },
  {
   "cell_type": "code",
   "execution_count": 33,
   "metadata": {
    "collapsed": true,
    "scrolled": true
   },
   "outputs": [],
   "source": [
    "trials = Trials()\n",
    "best2 = fmin(objective2, space2, algo=tpe.suggest, max_evals=500, trials=trials, rstate=r)"
   ]
  },
  {
   "cell_type": "code",
   "execution_count": 34,
   "metadata": {},
   "outputs": [
    {
     "data": {
      "text/plain": [
       "{'pred': {'alpha': 4.674811358887592, 'type': 'ridge'},\n",
       " 'scaler': MaxAbsScaler(copy=True)}"
      ]
     },
     "execution_count": 34,
     "metadata": {},
     "output_type": "execute_result"
    }
   ],
   "source": [
    "opt2 = space_eval(space2, best2)\n",
    "opt2"
   ]
  },
  {
   "cell_type": "code",
   "execution_count": 36,
   "metadata": {},
   "outputs": [],
   "source": [
    "if opt2['pred']['type'] == 'elastic':\n",
    "    opt2_pipe = Pipeline([\n",
    "        ('imputer', imputer), ('selection', sel), ('deskew', deskew),\n",
    "        ('scaler', opt2['scaler']), \n",
    "        ('pred', ElasticNet(alpha=opt2['pred']['alpha'], l1_ratio=opt2['pred']['l1_ratio']))\n",
    "    ])\n",
    "elif opt2['pred']['type'] == 'ridge':\n",
    "    opt2_pipe = Pipeline([\n",
    "        ('imputer', imputer), ('selection', sel), ('deskew', deskew),\n",
    "        ('scaler', opt2['scaler']), \n",
    "        ('pred', Ridge(alpha=opt2['pred']['alpha']))\n",
    "    ])\n",
    "else:\n",
    "    opt2_pipe = Pipeline([\n",
    "        ('imputer', imputer), ('selection', sel), ('deskew', deskew),\n",
    "        ('scaler', opt2['scaler']), \n",
    "        ('pred', Lasso(alpha=opt2['pred']['alpha']))\n",
    "    ])"
   ]
  },
  {
   "cell_type": "code",
   "execution_count": 37,
   "metadata": {},
   "outputs": [
    {
     "data": {
      "text/plain": [
       "Pipeline(memory=None,\n",
       "     steps=[('imputer', Imputer(axis=0, copy=True, missing_values='NaN', strategy='mean', verbose=0)), ('selection', VarianceThreshold(threshold=0.0)), ('deskew', removeSkew(skew_thres=10, unique_thres=3)), ('scaler', MaxAbsScaler(copy=True)), ('pred', Ridge(alpha=4.674811358887592, copy_X=True, fit_intercept=True, max_iter=None,\n",
       "   normalize=False, random_state=None, solver='auto', tol=0.001))])"
      ]
     },
     "execution_count": 37,
     "metadata": {},
     "output_type": "execute_result"
    }
   ],
   "source": [
    "opt2_pipe.fit(X_train, y_train.values.ravel())"
   ]
  },
  {
   "cell_type": "code",
   "execution_count": 38,
   "metadata": {
    "collapsed": true
   },
   "outputs": [],
   "source": [
    "opt2_train = opt2_pipe.predict(X_train)\n",
    "opt2_test = opt2_pipe.predict(X_test)"
   ]
  },
  {
   "cell_type": "code",
   "execution_count": 39,
   "metadata": {},
   "outputs": [
    {
     "name": "stdout",
     "output_type": "stream",
     "text": [
      "Ridge Regression scores after hyperparameter tuning:\n",
      "Training R2, RMSE and MAE:     0.9859  3.3850  1.6572  \n",
      "Test R2, RMSE and MAE:         0.9078  7.1585  3.3489  \n"
     ]
    },
    {
     "data": {
      "image/png": "[encoded data removed]",
      "text/plain": [
       "<matplotlib.figure.Figure at 0x7fdbbd9fbc18>"
      ]
     },
     "metadata": {},
     "output_type": "display_data"
    }
   ],
   "source": [
    "print('Ridge Regression scores after hyperparameter tuning:')\n",
    "print('Training R2, RMSE and MAE: '.ljust(30),\n",
    "      '{:<8.4f}{:<8.4f}{:<8.4f}'.format(opt2_pipe.score(X_train, y_train.values.ravel()),\n",
    "      np.sqrt(mean_squared_error(y_train, opt2_train)),\n",
    "      median_absolute_error(y_train, opt2_train)))\n",
    "print('Test R2, RMSE and MAE: '.ljust(30),\n",
    "      '{:<8.4f}{:<8.4f}{:<8.4f}'.format(opt2_pipe.score(X_test, y_test.values.ravel()),\n",
    "      np.sqrt(mean_squared_error(y_test, opt2_test)),\n",
    "      median_absolute_error(y_test, opt2_test)))\n",
    "\n",
    "\n",
    "fig, ax = plt.subplots()\n",
    "sns.regplot(y_train.values, opt2_train, fit_reg=False, label='Train', scatter_kws={'alpha': 0.7}, ax=ax)\n",
    "sns.regplot(y_test.values, opt2_test, fit_reg=False, label='Test', marker='^', ax=ax)\n",
    "ax.axis([-50, 120, -50, 120])\n",
    "ax.plot(ax.get_xlim(), ax.get_xlim(), color='red', linestyle='--')\n",
    "ax.set_xlabel('Ture value')\n",
    "ax.set_ylabel('Predict value')\n",
    "ax.legend()\n",
    "ax.set_title('Ridge Regression')\n",
    "\n",
    "sns.despine()"
   ]
  },
  {
   "cell_type": "markdown",
   "metadata": {
    "collapsed": true
   },
   "source": [
    "Overall Lasso and elastic net with Box-Cox transformation of the target gives the lowest test MAE (2.95 and 3.00 respectively). Surprisingly this simple model achieves very good results that is comparable to the fully connect neural networks employed by the original paper (test MAE 3.08). Due to different ways of splitting the original dataset the results may not be perfectly comparable. However, this analysis shows that apporiate preprocessing of the data can improve the model performance and achieve good results with simple models. The time required for model training is drastically reduced in this way."
   ]
  }
 ],
 "metadata": {
  "kernelspec": {
   "display_name": "Python 3",
   "language": "python",
   "name": "python3"
  },
  "language_info": {
   "codemirror_mode": {
    "name": "ipython",
    "version": 3
   },
   "file_extension": ".py",
   "mimetype": "text/x-python",
   "name": "python",
   "nbconvert_exporter": "python",
   "pygments_lexer": "ipython3",
   "version": "3.6.3"
  },
  "toc": {
   "nav_menu": {},
   "number_sections": true,
   "sideBar": true,
   "skip_h1_title": false,
   "toc_cell": false,
   "toc_position": {},
   "toc_section_display": "block",
   "toc_window_display": false
  }
 },
 "nbformat": 4,
 "nbformat_minor": 2
}
